{
 "cells": [
  {
   "cell_type": "markdown",
   "id": "6d80dfd1",
   "metadata": {},
   "source": [
    "# Use Case for Hackathon"
   ]
  },
  {
   "cell_type": "markdown",
   "id": "1004b05d",
   "metadata": {},
   "source": [
    "### We get a dataset, we have to understand it and get value from it"
   ]
  },
  {
   "cell_type": "markdown",
   "id": "bccda086",
   "metadata": {},
   "source": [
    "A school wants to hire us to see whether we are able to understand some problems they believe they are facing. \n",
    "\n",
    "Something is going wrong with the performance of the students but they are not able to figure it out and give reasons to it. \n",
    "\n",
    "Some parents are very disappointed of the grades of their kids and have complaint continiously to the board of the school. \n",
    "\n",
    "Our company is low on budget and we accept the deal even if it is risky, stressful and the money won't cover much of our runaway either but we take what we get. "
   ]
  },
  {
   "cell_type": "markdown",
   "id": "1a09360f",
   "metadata": {},
   "source": [
    "## Let's get to it and try to help the School!"
   ]
  },
  {
   "cell_type": "markdown",
   "id": "1f0fd8dc",
   "metadata": {},
   "source": [
    "### Import dataset and do the first general analysis"
   ]
  },
  {
   "cell_type": "code",
   "execution_count": 18,
   "id": "03fcd6ea",
   "metadata": {},
   "outputs": [],
   "source": [
    "import pandas as pd"
   ]
  },
  {
   "cell_type": "code",
   "execution_count": 19,
   "id": "e61e9d5d",
   "metadata": {},
   "outputs": [
    {
     "data": {
      "text/html": [
       "<div>\n",
       "<style scoped>\n",
       "    .dataframe tbody tr th:only-of-type {\n",
       "        vertical-align: middle;\n",
       "    }\n",
       "\n",
       "    .dataframe tbody tr th {\n",
       "        vertical-align: top;\n",
       "    }\n",
       "\n",
       "    .dataframe thead th {\n",
       "        text-align: right;\n",
       "    }\n",
       "</style>\n",
       "<table border=\"1\" class=\"dataframe\">\n",
       "  <thead>\n",
       "    <tr style=\"text-align: right;\">\n",
       "      <th></th>\n",
       "      <th>gender</th>\n",
       "      <th>race/ethnicity</th>\n",
       "      <th>parental level of education</th>\n",
       "      <th>lunch</th>\n",
       "      <th>test preparation course</th>\n",
       "      <th>math score</th>\n",
       "      <th>reading score</th>\n",
       "      <th>writing score</th>\n",
       "      <th>id_student</th>\n",
       "      <th>address</th>\n",
       "      <th>Year</th>\n",
       "      <th>Age</th>\n",
       "    </tr>\n",
       "  </thead>\n",
       "  <tbody>\n",
       "    <tr>\n",
       "      <th>0</th>\n",
       "      <td>Male</td>\n",
       "      <td>group A</td>\n",
       "      <td>high school</td>\n",
       "      <td>standard</td>\n",
       "      <td>completed</td>\n",
       "      <td>67</td>\n",
       "      <td>67</td>\n",
       "      <td>63</td>\n",
       "      <td>1000</td>\n",
       "      <td>NaN</td>\n",
       "      <td>2023</td>\n",
       "      <td>14.0</td>\n",
       "    </tr>\n",
       "    <tr>\n",
       "      <th>1</th>\n",
       "      <td>Female</td>\n",
       "      <td>group D</td>\n",
       "      <td>some high school</td>\n",
       "      <td>free/reduced</td>\n",
       "      <td>none</td>\n",
       "      <td>40</td>\n",
       "      <td>29</td>\n",
       "      <td>55</td>\n",
       "      <td>1001</td>\n",
       "      <td>NaN</td>\n",
       "      <td>2023</td>\n",
       "      <td>17.0</td>\n",
       "    </tr>\n",
       "    <tr>\n",
       "      <th>2</th>\n",
       "      <td>Male</td>\n",
       "      <td>group E</td>\n",
       "      <td>some college</td>\n",
       "      <td>free/reduced</td>\n",
       "      <td>none</td>\n",
       "      <td>59</td>\n",
       "      <td>60</td>\n",
       "      <td>50</td>\n",
       "      <td>1002</td>\n",
       "      <td>NaN</td>\n",
       "      <td>2023</td>\n",
       "      <td>14.0</td>\n",
       "    </tr>\n",
       "    <tr>\n",
       "      <th>3</th>\n",
       "      <td>Male</td>\n",
       "      <td>group B</td>\n",
       "      <td>high school</td>\n",
       "      <td>standard</td>\n",
       "      <td>none</td>\n",
       "      <td>77</td>\n",
       "      <td>78</td>\n",
       "      <td>68</td>\n",
       "      <td>1003</td>\n",
       "      <td>NaN</td>\n",
       "      <td>2023</td>\n",
       "      <td>17.0</td>\n",
       "    </tr>\n",
       "    <tr>\n",
       "      <th>4</th>\n",
       "      <td>Male</td>\n",
       "      <td>group E</td>\n",
       "      <td>associate's degree</td>\n",
       "      <td>standard</td>\n",
       "      <td>completed</td>\n",
       "      <td>78</td>\n",
       "      <td>73</td>\n",
       "      <td>68</td>\n",
       "      <td>1004</td>\n",
       "      <td>NaN</td>\n",
       "      <td>2023</td>\n",
       "      <td>16.0</td>\n",
       "    </tr>\n",
       "  </tbody>\n",
       "</table>\n",
       "</div>"
      ],
      "text/plain": [
       "   gender race/ethnicity parental level of education         lunch  \\\n",
       "0    Male        group A                 high school      standard   \n",
       "1  Female        group D            some high school  free/reduced   \n",
       "2    Male        group E                some college  free/reduced   \n",
       "3    Male        group B                 high school      standard   \n",
       "4    Male        group E          associate's degree      standard   \n",
       "\n",
       "  test preparation course  math score  reading score  writing score  \\\n",
       "0               completed          67             67             63   \n",
       "1                    none          40             29             55   \n",
       "2                    none          59             60             50   \n",
       "3                    none          77             78             68   \n",
       "4               completed          78             73             68   \n",
       "\n",
       "   id_student  address  Year   Age  \n",
       "0        1000      NaN  2023  14.0  \n",
       "1        1001      NaN  2023  17.0  \n",
       "2        1002      NaN  2023  14.0  \n",
       "3        1003      NaN  2023  17.0  \n",
       "4        1004      NaN  2023  16.0  "
      ]
     },
     "execution_count": 19,
     "metadata": {},
     "output_type": "execute_result"
    }
   ],
   "source": [
    "url='https://drive.google.com/file/d/1ETCwd-hUZ_qhQX0M0OY6OAddVE4bCSOW/view?usp=sharing'\n",
    "url='https://drive.google.com/uc?id=' + url.split('/')[-2]\n",
    "\n",
    "df = pd.read_csv(url)\n",
    "df.head()"
   ]
  },
  {
   "cell_type": "code",
   "execution_count": 20,
   "id": "5f27bf91",
   "metadata": {},
   "outputs": [
    {
     "name": "stdout",
     "output_type": "stream",
     "text": [
      "<class 'pandas.core.frame.DataFrame'>\n",
      "RangeIndex: 1010 entries, 0 to 1009\n",
      "Data columns (total 12 columns):\n",
      " #   Column                       Non-Null Count  Dtype  \n",
      "---  ------                       --------------  -----  \n",
      " 0   gender                       1010 non-null   object \n",
      " 1   race/ethnicity               1010 non-null   object \n",
      " 2   parental level of education  1010 non-null   object \n",
      " 3   lunch                        1010 non-null   object \n",
      " 4   test preparation course      1010 non-null   object \n",
      " 5   math score                   1010 non-null   int64  \n",
      " 6   reading score                1010 non-null   int64  \n",
      " 7   writing score                1010 non-null   int64  \n",
      " 8   id_student                   1010 non-null   int64  \n",
      " 9   address                      0 non-null      float64\n",
      " 10  Year                         1010 non-null   int64  \n",
      " 11  Age                          943 non-null    float64\n",
      "dtypes: float64(2), int64(5), object(5)\n",
      "memory usage: 94.8+ KB\n"
     ]
    }
   ],
   "source": [
    "df.info()"
   ]
  },
  {
   "cell_type": "code",
   "execution_count": 28,
   "id": "ebff2dc9",
   "metadata": {},
   "outputs": [
    {
     "data": {
      "text/html": [
       "<div>\n",
       "<style scoped>\n",
       "    .dataframe tbody tr th:only-of-type {\n",
       "        vertical-align: middle;\n",
       "    }\n",
       "\n",
       "    .dataframe tbody tr th {\n",
       "        vertical-align: top;\n",
       "    }\n",
       "\n",
       "    .dataframe thead th {\n",
       "        text-align: right;\n",
       "    }\n",
       "</style>\n",
       "<table border=\"1\" class=\"dataframe\">\n",
       "  <thead>\n",
       "    <tr style=\"text-align: right;\">\n",
       "      <th></th>\n",
       "      <th>math score</th>\n",
       "      <th>reading score</th>\n",
       "      <th>writing score</th>\n",
       "      <th>address</th>\n",
       "      <th>Year</th>\n",
       "      <th>Age</th>\n",
       "    </tr>\n",
       "  </thead>\n",
       "  <tbody>\n",
       "    <tr>\n",
       "      <th>count</th>\n",
       "      <td>1010.000000</td>\n",
       "      <td>1010.000000</td>\n",
       "      <td>1010.000000</td>\n",
       "      <td>0.0</td>\n",
       "      <td>1010.000000</td>\n",
       "      <td>943.000000</td>\n",
       "    </tr>\n",
       "    <tr>\n",
       "      <th>mean</th>\n",
       "      <td>66.420792</td>\n",
       "      <td>64.930693</td>\n",
       "      <td>70.289109</td>\n",
       "      <td>NaN</td>\n",
       "      <td>2021.104950</td>\n",
       "      <td>15.483563</td>\n",
       "    </tr>\n",
       "    <tr>\n",
       "      <th>std</th>\n",
       "      <td>15.481187</td>\n",
       "      <td>18.990769</td>\n",
       "      <td>19.125831</td>\n",
       "      <td>NaN</td>\n",
       "      <td>7.681396</td>\n",
       "      <td>1.151707</td>\n",
       "    </tr>\n",
       "    <tr>\n",
       "      <th>min</th>\n",
       "      <td>13.000000</td>\n",
       "      <td>15.000000</td>\n",
       "      <td>23.000000</td>\n",
       "      <td>NaN</td>\n",
       "      <td>1990.000000</td>\n",
       "      <td>14.000000</td>\n",
       "    </tr>\n",
       "    <tr>\n",
       "      <th>25%</th>\n",
       "      <td>56.000000</td>\n",
       "      <td>54.000000</td>\n",
       "      <td>58.000000</td>\n",
       "      <td>NaN</td>\n",
       "      <td>2023.000000</td>\n",
       "      <td>14.000000</td>\n",
       "    </tr>\n",
       "    <tr>\n",
       "      <th>50%</th>\n",
       "      <td>66.000000</td>\n",
       "      <td>68.000000</td>\n",
       "      <td>68.000000</td>\n",
       "      <td>NaN</td>\n",
       "      <td>2023.000000</td>\n",
       "      <td>16.000000</td>\n",
       "    </tr>\n",
       "    <tr>\n",
       "      <th>75%</th>\n",
       "      <td>77.000000</td>\n",
       "      <td>78.000000</td>\n",
       "      <td>79.000000</td>\n",
       "      <td>NaN</td>\n",
       "      <td>2023.000000</td>\n",
       "      <td>17.000000</td>\n",
       "    </tr>\n",
       "    <tr>\n",
       "      <th>max</th>\n",
       "      <td>120.000000</td>\n",
       "      <td>100.000000</td>\n",
       "      <td>100.000000</td>\n",
       "      <td>NaN</td>\n",
       "      <td>2023.000000</td>\n",
       "      <td>17.000000</td>\n",
       "    </tr>\n",
       "  </tbody>\n",
       "</table>\n",
       "</div>"
      ],
      "text/plain": [
       "        math score  reading score  writing score  address         Year  \\\n",
       "count  1010.000000    1010.000000    1010.000000      0.0  1010.000000   \n",
       "mean     66.420792      64.930693      70.289109      NaN  2021.104950   \n",
       "std      15.481187      18.990769      19.125831      NaN     7.681396   \n",
       "min      13.000000      15.000000      23.000000      NaN  1990.000000   \n",
       "25%      56.000000      54.000000      58.000000      NaN  2023.000000   \n",
       "50%      66.000000      68.000000      68.000000      NaN  2023.000000   \n",
       "75%      77.000000      78.000000      79.000000      NaN  2023.000000   \n",
       "max     120.000000     100.000000     100.000000      NaN  2023.000000   \n",
       "\n",
       "              Age  \n",
       "count  943.000000  \n",
       "mean    15.483563  \n",
       "std      1.151707  \n",
       "min     14.000000  \n",
       "25%     14.000000  \n",
       "50%     16.000000  \n",
       "75%     17.000000  \n",
       "max     17.000000  "
      ]
     },
     "execution_count": 28,
     "metadata": {},
     "output_type": "execute_result"
    }
   ],
   "source": [
    "df.describe()"
   ]
  },
  {
   "cell_type": "markdown",
   "id": "9502046f",
   "metadata": {},
   "source": [
    "Llama la atención el outlier en math score"
   ]
  },
  {
   "cell_type": "markdown",
   "id": "2bcdbe8c",
   "metadata": {},
   "source": [
    "## What information do we get from this? "
   ]
  },
  {
   "cell_type": "markdown",
   "id": "e47a6d7e",
   "metadata": {},
   "source": [
    "1. Why is student id int? If it is a string. It is not a number\n",
    "\n",
    "2. We need to inspect all the object columns and check the value counts. What do we discover when we do it? \n",
    "\n",
    "3. The distribution of the year column is a bit odd. We need to look more into it. \n",
    "\n",
    "4. Do we have duplicates in the dataset?\n",
    "\n",
    "5. All rows of the column address are missing, maybe we can just delete it\n",
    "\n",
    "6. The age column has 77 missing values. What should we do with it? \n",
    "\n",
    "7. There seems to be values for the math scores higher than 120. Are those outliers? "
   ]
  },
  {
   "cell_type": "markdown",
   "id": "14188f36",
   "metadata": {},
   "source": [
    "### 1. Change type of student id  "
   ]
  },
  {
   "cell_type": "code",
   "execution_count": 21,
   "id": "954b0310",
   "metadata": {},
   "outputs": [],
   "source": [
    "#está cogiendo id como un número y no como variable\n",
    "df['id_student']=df['id_student'].astype(str)"
   ]
  },
  {
   "cell_type": "markdown",
   "id": "4aa63224",
   "metadata": {},
   "source": [
    "### 2. Explore the columns that are objects (string)"
   ]
  },
  {
   "cell_type": "code",
   "execution_count": 22,
   "id": "8176877b",
   "metadata": {},
   "outputs": [
    {
     "data": {
      "text/html": [
       "<div>\n",
       "<style scoped>\n",
       "    .dataframe tbody tr th:only-of-type {\n",
       "        vertical-align: middle;\n",
       "    }\n",
       "\n",
       "    .dataframe tbody tr th {\n",
       "        vertical-align: top;\n",
       "    }\n",
       "\n",
       "    .dataframe thead th {\n",
       "        text-align: right;\n",
       "    }\n",
       "</style>\n",
       "<table border=\"1\" class=\"dataframe\">\n",
       "  <thead>\n",
       "    <tr style=\"text-align: right;\">\n",
       "      <th></th>\n",
       "      <th>gender</th>\n",
       "      <th>race/ethnicity</th>\n",
       "      <th>parental level of education</th>\n",
       "      <th>lunch</th>\n",
       "      <th>test preparation course</th>\n",
       "      <th>id_student</th>\n",
       "    </tr>\n",
       "  </thead>\n",
       "  <tbody>\n",
       "    <tr>\n",
       "      <th>0</th>\n",
       "      <td>Male</td>\n",
       "      <td>group A</td>\n",
       "      <td>high school</td>\n",
       "      <td>standard</td>\n",
       "      <td>completed</td>\n",
       "      <td>1000</td>\n",
       "    </tr>\n",
       "    <tr>\n",
       "      <th>1</th>\n",
       "      <td>Female</td>\n",
       "      <td>group D</td>\n",
       "      <td>some high school</td>\n",
       "      <td>free/reduced</td>\n",
       "      <td>none</td>\n",
       "      <td>1001</td>\n",
       "    </tr>\n",
       "    <tr>\n",
       "      <th>2</th>\n",
       "      <td>Male</td>\n",
       "      <td>group E</td>\n",
       "      <td>some college</td>\n",
       "      <td>free/reduced</td>\n",
       "      <td>none</td>\n",
       "      <td>1002</td>\n",
       "    </tr>\n",
       "    <tr>\n",
       "      <th>3</th>\n",
       "      <td>Male</td>\n",
       "      <td>group B</td>\n",
       "      <td>high school</td>\n",
       "      <td>standard</td>\n",
       "      <td>none</td>\n",
       "      <td>1003</td>\n",
       "    </tr>\n",
       "    <tr>\n",
       "      <th>4</th>\n",
       "      <td>Male</td>\n",
       "      <td>group E</td>\n",
       "      <td>associate's degree</td>\n",
       "      <td>standard</td>\n",
       "      <td>completed</td>\n",
       "      <td>1004</td>\n",
       "    </tr>\n",
       "  </tbody>\n",
       "</table>\n",
       "</div>"
      ],
      "text/plain": [
       "   gender race/ethnicity parental level of education         lunch  \\\n",
       "0    Male        group A                 high school      standard   \n",
       "1  Female        group D            some high school  free/reduced   \n",
       "2    Male        group E                some college  free/reduced   \n",
       "3    Male        group B                 high school      standard   \n",
       "4    Male        group E          associate's degree      standard   \n",
       "\n",
       "  test preparation course id_student  \n",
       "0               completed       1000  \n",
       "1                    none       1001  \n",
       "2                    none       1002  \n",
       "3                    none       1003  \n",
       "4               completed       1004  "
      ]
     },
     "execution_count": 22,
     "metadata": {},
     "output_type": "execute_result"
    }
   ],
   "source": [
    "object_columns = df.select_dtypes(include='object')\n",
    "object_columns.head()"
   ]
  },
  {
   "cell_type": "markdown",
   "id": "993c9dd2",
   "metadata": {},
   "source": [
    "### 3. Seems that the column gender has a lot of versions we are going to have to fix this"
   ]
  },
  {
   "cell_type": "code",
   "execution_count": 23,
   "id": "3fe27f96",
   "metadata": {},
   "outputs": [
    {
     "data": {
      "text/plain": [
       "array(['Male', 'Female', 'MALE', 'FEMALE', 'male', 'female'], dtype=object)"
      ]
     },
     "execution_count": 23,
     "metadata": {},
     "output_type": "execute_result"
    }
   ],
   "source": [
    "df['gender'].unique()"
   ]
  },
  {
   "cell_type": "code",
   "execution_count": 24,
   "id": "df47917f",
   "metadata": {},
   "outputs": [
    {
     "data": {
      "text/plain": [
       "array(['MALE', 'FEMALE'], dtype=object)"
      ]
     },
     "execution_count": 24,
     "metadata": {},
     "output_type": "execute_result"
    }
   ],
   "source": [
    "df['gender'] = df['gender'].str.upper()\n",
    "df['gender'].unique()"
   ]
  },
  {
   "cell_type": "markdown",
   "id": "4c7a45ad",
   "metadata": {},
   "source": [
    "### 4. What may be happening with the year? "
   ]
  },
  {
   "cell_type": "code",
   "execution_count": 26,
   "id": "f7b3fbd0",
   "metadata": {},
   "outputs": [
    {
     "data": {
      "text/plain": [
       "count    1010.000000\n",
       "mean     2021.104950\n",
       "std         7.681396\n",
       "min      1990.000000\n",
       "25%      2023.000000\n",
       "50%      2023.000000\n",
       "75%      2023.000000\n",
       "max      2023.000000\n",
       "Name: Year, dtype: float64"
      ]
     },
     "execution_count": 26,
     "metadata": {},
     "output_type": "execute_result"
    }
   ],
   "source": [
    "df['Year'].describe()"
   ]
  },
  {
   "cell_type": "code",
   "execution_count": 29,
   "id": "aafa7295",
   "metadata": {},
   "outputs": [
    {
     "data": {
      "text/plain": [
       "Year\n",
       "2023    952\n",
       "1990     58\n",
       "Name: count, dtype: int64"
      ]
     },
     "execution_count": 29,
     "metadata": {},
     "output_type": "execute_result"
    }
   ],
   "source": [
    "df['Year'].value_counts()"
   ]
  },
  {
   "cell_type": "markdown",
   "id": "deb491c9",
   "metadata": {},
   "source": [
    "#hay valores de año que no tienen sentido pero nos centraremos en otras variables. Podríasmos reemplazar con la media o ignorarlo"
   ]
  },
  {
   "cell_type": "markdown",
   "id": "ab90e1eb",
   "metadata": {},
   "source": [
    "### 5. Do we have any duplicates? "
   ]
  },
  {
   "cell_type": "code",
   "execution_count": 30,
   "id": "ad17d922",
   "metadata": {},
   "outputs": [
    {
     "name": "stdout",
     "output_type": "stream",
     "text": [
      "<class 'pandas.core.frame.DataFrame'>\n",
      "Index: 1000 entries, 0 to 999\n",
      "Data columns (total 12 columns):\n",
      " #   Column                       Non-Null Count  Dtype  \n",
      "---  ------                       --------------  -----  \n",
      " 0   gender                       1000 non-null   object \n",
      " 1   race/ethnicity               1000 non-null   object \n",
      " 2   parental level of education  1000 non-null   object \n",
      " 3   lunch                        1000 non-null   object \n",
      " 4   test preparation course      1000 non-null   object \n",
      " 5   math score                   1000 non-null   int64  \n",
      " 6   reading score                1000 non-null   int64  \n",
      " 7   writing score                1000 non-null   int64  \n",
      " 8   id_student                   1000 non-null   object \n",
      " 9   address                      0 non-null      float64\n",
      " 10  Year                         1000 non-null   int64  \n",
      " 11  Age                          933 non-null    float64\n",
      "dtypes: float64(2), int64(4), object(6)\n",
      "memory usage: 101.6+ KB\n"
     ]
    }
   ],
   "source": [
    "df_1=df.drop_duplicates()\n",
    "df_1.info()"
   ]
  },
  {
   "cell_type": "code",
   "execution_count": 31,
   "id": "c103c220",
   "metadata": {},
   "outputs": [
    {
     "name": "stdout",
     "output_type": "stream",
     "text": [
      "<class 'pandas.core.frame.DataFrame'>\n",
      "RangeIndex: 1010 entries, 0 to 1009\n",
      "Data columns (total 12 columns):\n",
      " #   Column                       Non-Null Count  Dtype  \n",
      "---  ------                       --------------  -----  \n",
      " 0   gender                       1010 non-null   object \n",
      " 1   race/ethnicity               1010 non-null   object \n",
      " 2   parental level of education  1010 non-null   object \n",
      " 3   lunch                        1010 non-null   object \n",
      " 4   test preparation course      1010 non-null   object \n",
      " 5   math score                   1010 non-null   int64  \n",
      " 6   reading score                1010 non-null   int64  \n",
      " 7   writing score                1010 non-null   int64  \n",
      " 8   id_student                   1010 non-null   object \n",
      " 9   address                      0 non-null      float64\n",
      " 10  Year                         1010 non-null   int64  \n",
      " 11  Age                          943 non-null    float64\n",
      "dtypes: float64(2), int64(4), object(6)\n",
      "memory usage: 94.8+ KB\n"
     ]
    }
   ],
   "source": [
    "df.info()"
   ]
  },
  {
   "cell_type": "markdown",
   "id": "b302a10c",
   "metadata": {},
   "source": [
    "Vemos entre los dos datasets que la diferencia es de 10 duplicados"
   ]
  },
  {
   "cell_type": "markdown",
   "id": "95b40332",
   "metadata": {},
   "source": [
    "### 6.1. Missing values: Remember the column address"
   ]
  },
  {
   "cell_type": "code",
   "execution_count": null,
   "id": "3309b722",
   "metadata": {},
   "outputs": [],
   "source": [
    "#la columna no contiene datos por lo tanto la borramos\n",
    "df_1=df_1.drop('address',axis=1)"
   ]
  },
  {
   "cell_type": "code",
   "execution_count": 34,
   "id": "b866ba6f",
   "metadata": {},
   "outputs": [
    {
     "name": "stdout",
     "output_type": "stream",
     "text": [
      "<class 'pandas.core.frame.DataFrame'>\n",
      "Index: 1000 entries, 0 to 999\n",
      "Data columns (total 11 columns):\n",
      " #   Column                       Non-Null Count  Dtype  \n",
      "---  ------                       --------------  -----  \n",
      " 0   gender                       1000 non-null   object \n",
      " 1   race/ethnicity               1000 non-null   object \n",
      " 2   parental level of education  1000 non-null   object \n",
      " 3   lunch                        1000 non-null   object \n",
      " 4   test preparation course      1000 non-null   object \n",
      " 5   math score                   1000 non-null   int64  \n",
      " 6   reading score                1000 non-null   int64  \n",
      " 7   writing score                1000 non-null   int64  \n",
      " 8   id_student                   1000 non-null   object \n",
      " 9   Year                         1000 non-null   int64  \n",
      " 10  Age                          933 non-null    float64\n",
      "dtypes: float64(1), int64(4), object(6)\n",
      "memory usage: 126.0+ KB\n"
     ]
    }
   ],
   "source": [
    "df_1.info()"
   ]
  },
  {
   "cell_type": "markdown",
   "id": "99658998",
   "metadata": {},
   "source": [
    "### 6.2. What about the missing values of the column Age? "
   ]
  },
  {
   "cell_type": "markdown",
   "id": "bf50cedb",
   "metadata": {},
   "source": [
    "Hay 67 valores nulos en la columna (visto en el apartado anterior)"
   ]
  },
  {
   "cell_type": "markdown",
   "id": "0e126985",
   "metadata": {},
   "source": [
    "### 7. What is going on with the math scores?"
   ]
  },
  {
   "cell_type": "code",
   "execution_count": 36,
   "id": "736a84a1",
   "metadata": {},
   "outputs": [
    {
     "data": {
      "text/html": [
       "<div>\n",
       "<style scoped>\n",
       "    .dataframe tbody tr th:only-of-type {\n",
       "        vertical-align: middle;\n",
       "    }\n",
       "\n",
       "    .dataframe tbody tr th {\n",
       "        vertical-align: top;\n",
       "    }\n",
       "\n",
       "    .dataframe thead th {\n",
       "        text-align: right;\n",
       "    }\n",
       "</style>\n",
       "<table border=\"1\" class=\"dataframe\">\n",
       "  <thead>\n",
       "    <tr style=\"text-align: right;\">\n",
       "      <th></th>\n",
       "      <th>gender</th>\n",
       "      <th>race/ethnicity</th>\n",
       "      <th>parental level of education</th>\n",
       "      <th>lunch</th>\n",
       "      <th>test preparation course</th>\n",
       "      <th>math score</th>\n",
       "      <th>reading score</th>\n",
       "      <th>writing score</th>\n",
       "      <th>id_student</th>\n",
       "      <th>Year</th>\n",
       "      <th>Age</th>\n",
       "    </tr>\n",
       "  </thead>\n",
       "  <tbody>\n",
       "    <tr>\n",
       "      <th>11</th>\n",
       "      <td>FEMALE</td>\n",
       "      <td>group D</td>\n",
       "      <td>high school</td>\n",
       "      <td>standard</td>\n",
       "      <td>completed</td>\n",
       "      <td>120</td>\n",
       "      <td>87</td>\n",
       "      <td>100</td>\n",
       "      <td>1011</td>\n",
       "      <td>2023</td>\n",
       "      <td>16.0</td>\n",
       "    </tr>\n",
       "  </tbody>\n",
       "</table>\n",
       "</div>"
      ],
      "text/plain": [
       "    gender race/ethnicity parental level of education     lunch  \\\n",
       "11  FEMALE        group D                 high school  standard   \n",
       "\n",
       "   test preparation course  math score  reading score  writing score  \\\n",
       "11               completed         120             87            100   \n",
       "\n",
       "   id_student  Year   Age  \n",
       "11       1011  2023  16.0  "
      ]
     },
     "execution_count": 36,
     "metadata": {},
     "output_type": "execute_result"
    }
   ],
   "source": [
    "#hemos visto que la puntuación máxima está por encima de 100\n",
    "df_1.loc[df_1['math score'] > 100]"
   ]
  },
  {
   "cell_type": "markdown",
   "id": "7a60f025",
   "metadata": {},
   "source": [
    "Solo hay un otulier"
   ]
  },
  {
   "cell_type": "markdown",
   "id": "d46624f0",
   "metadata": {},
   "source": [
    "## Do some initial plots? EDA"
   ]
  },
  {
   "cell_type": "code",
   "execution_count": null,
   "id": "086471e1",
   "metadata": {},
   "outputs": [],
   "source": [
    "#entregar hasta antes de esto"
   ]
  },
  {
   "cell_type": "code",
   "execution_count": 47,
   "id": "cdc4d510",
   "metadata": {},
   "outputs": [
    {
     "data": {
      "text/plain": [
       "test preparation course\n",
       "completed    69.805970\n",
       "none         64.738346\n",
       "Name: math score, dtype: float64"
      ]
     },
     "execution_count": 47,
     "metadata": {},
     "output_type": "execute_result"
    }
   ],
   "source": [
    "df_2=df_1.groupby(by=['test preparation course'])[('math score')].mean()\n",
    "df_2.head()"
   ]
  },
  {
   "cell_type": "markdown",
   "id": "f8c57933",
   "metadata": {},
   "source": [
    "Los alumnos que no han completado el curso preparatorio obtienen peores resultados en promedio"
   ]
  },
  {
   "cell_type": "markdown",
   "id": "7a7765e3",
   "metadata": {},
   "source": [
    "### What do you find interesting?  "
   ]
  },
  {
   "cell_type": "markdown",
   "id": "b725d6ce",
   "metadata": {},
   "source": [
    "- To me the reading score is really intriguing --> We need to really work on understanding what is going on\n",
    "- The writing score is also characteristic but in principle I am not that worried about it. "
   ]
  },
  {
   "cell_type": "markdown",
   "id": "aa217d66",
   "metadata": {},
   "source": [
    "#### We know for a fact that the id_student and the year will not be relevant for any analysis as they are the same value for the whole dataset\n",
    "\n",
    "Maybe we can delete them from now on"
   ]
  },
  {
   "cell_type": "code",
   "execution_count": null,
   "id": "e253604e",
   "metadata": {},
   "outputs": [],
   "source": []
  },
  {
   "cell_type": "code",
   "execution_count": null,
   "id": "72949f6d",
   "metadata": {},
   "outputs": [],
   "source": []
  },
  {
   "cell_type": "code",
   "execution_count": null,
   "id": "66d90b67",
   "metadata": {},
   "outputs": [],
   "source": []
  },
  {
   "cell_type": "markdown",
   "id": "563c1ee8",
   "metadata": {},
   "source": [
    "#### What do we care about? The grades are the main problem. Maybe they vary based on any of the other variables"
   ]
  },
  {
   "cell_type": "markdown",
   "id": "38d4029e",
   "metadata": {},
   "source": [
    "I think we can detect the biggest discrepancies at 3-4 levels: \n",
    "\n",
    "- Parental level of education \n",
    "\n",
    "- Test preparation course \n",
    "\n",
    "- Mybe lunch or gender (I am pretty sure the lunch should not have that much impact but let's still check it)\n",
    "\n",
    "Let's go deeper\n",
    "\n",
    " \n",
    "\n"
   ]
  },
  {
   "cell_type": "markdown",
   "id": "a9d84732",
   "metadata": {},
   "source": [
    "### 2-variable Analysis with Lunch column "
   ]
  },
  {
   "cell_type": "markdown",
   "id": "acde03e3",
   "metadata": {},
   "source": [
    "### 2-variable Analysis with gender column "
   ]
  },
  {
   "cell_type": "markdown",
   "id": "b89a9a96",
   "metadata": {},
   "source": [
    "### 2-variable Analysis with Test preparation course column "
   ]
  },
  {
   "cell_type": "markdown",
   "id": "c35bcd84",
   "metadata": {},
   "source": [
    "### What is next?\n",
    "\n",
    "- Get the story together\n",
    "- Improve your code\n",
    "- Get some statistics of the differences you want to show \n",
    "- Work on the plots to show the data nicely \n",
    "- Get the presentation ready \n",
    "- Show what you found to the client"
   ]
  }
 ],
 "metadata": {
  "kernelspec": {
   "display_name": "emiba_data_exploration",
   "language": "python",
   "name": "python3"
  },
  "language_info": {
   "codemirror_mode": {
    "name": "ipython",
    "version": 3
   },
   "file_extension": ".py",
   "mimetype": "text/x-python",
   "name": "python",
   "nbconvert_exporter": "python",
   "pygments_lexer": "ipython3",
   "version": "3.11.11"
  }
 },
 "nbformat": 4,
 "nbformat_minor": 5
}
